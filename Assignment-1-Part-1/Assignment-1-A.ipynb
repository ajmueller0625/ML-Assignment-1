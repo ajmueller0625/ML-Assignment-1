{
 "cells": [
  {
   "cell_type": "markdown",
   "id": "00f4d447-696a-42ef-b3fa-0b754606109b",
   "metadata": {},
   "source": [
    "# Assignment 1 A:"
   ]
  },
  {
   "cell_type": "markdown",
   "id": "c92a0176-c128-4538-9dc1-9ad52d1ca818",
   "metadata": {},
   "source": [
    "### Neuron class:"
   ]
  },
  {
   "cell_type": "code",
   "execution_count": 1,
   "id": "a7b1712c-4481-437f-9beb-b86d5fe3da5b",
   "metadata": {},
   "outputs": [],
   "source": [
    "class Neuron:\n",
    "    def __init__(self, weights: list[float], bias: float):\n",
    "        '''\n",
    "        Initialize a neuron with given weights and bias\n",
    "\n",
    "        Parameters:\n",
    "            weights: List[float]\n",
    "                The weights of the neuron\n",
    "            bias: float\n",
    "                The bias of the neuron\n",
    "        '''\n",
    "\n",
    "        self.weights: list[float] = weights\n",
    "        self.bias: float = bias\n",
    "\n",
    "    def activate(self, x: float) -> float:\n",
    "        '''\n",
    "        Activate the neuron\n",
    "\n",
    "        Parameters:\n",
    "            x: float\n",
    "                The input to the neuron\n",
    "        Returns:\n",
    "            float\n",
    "                The output of the neuron\n",
    "        '''\n",
    "        # using heaviside activation return 1.0 if the input is greater than or equal to 0, otherwise return 0.0\n",
    "        return 1.0 if x >= 0 else 0.0\n",
    "\n",
    "    def feedforward(self, inputs: list[float]) -> float:\n",
    "        '''\n",
    "        Feedforward the neuron\n",
    "\n",
    "        Parameters:\n",
    "            inputs: list[float]\n",
    "                The inputs to the neuron\n",
    "        Returns:\n",
    "            float\n",
    "                The output of the neuron\n",
    "        '''\n",
    "        # check if the length of inputs is equal to the length of weights\n",
    "        assert len(inputs) == len(\n",
    "            self.weights), 'Length of inputs must be equal to length of weights'\n",
    "\n",
    "        # calculate the total sum of the inputs multiplied by the weights and add the bias\n",
    "        total: float = sum(\n",
    "            w * i for w, i in zip(self.weights, inputs)) + self.bias\n",
    "\n",
    "        return self.activate(total)"
   ]
  },
  {
   "cell_type": "markdown",
   "id": "d7690b8c-0ac4-44fd-bd7b-49562788fd83",
   "metadata": {},
   "source": [
    "### Test Neuron class"
   ]
  },
  {
   "cell_type": "code",
   "execution_count": 2,
   "id": "613d002e-67b6-44c6-a67e-60c6a9c195de",
   "metadata": {},
   "outputs": [
    {
     "name": "stdout",
     "output_type": "stream",
     "text": [
      "1.0\n"
     ]
    }
   ],
   "source": [
    "# test the neuron \n",
    "neuron = Neuron(weights=[-0.5, -0.6, 0.2, -0.3, 0.4], bias=0.0)\n",
    "print(neuron.feedforward([-1.0, -2.0, -3.0, -4.0, 5.0]))\n"
   ]
  }
 ],
 "metadata": {
  "kernelspec": {
   "display_name": "Python 3 (ipykernel)",
   "language": "python",
   "name": "python3"
  },
  "language_info": {
   "codemirror_mode": {
    "name": "ipython",
    "version": 3
   },
   "file_extension": ".py",
   "mimetype": "text/x-python",
   "name": "python",
   "nbconvert_exporter": "python",
   "pygments_lexer": "ipython3",
   "version": "3.12.8"
  }
 },
 "nbformat": 4,
 "nbformat_minor": 5
}
